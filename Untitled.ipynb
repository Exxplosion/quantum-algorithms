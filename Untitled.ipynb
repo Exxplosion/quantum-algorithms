{
 "cells": [
  {
   "cell_type": "code",
   "execution_count": 81,
   "id": "floating-satin",
   "metadata": {},
   "outputs": [],
   "source": [
    "import pandas as pd\n",
    "import numpy as np"
   ]
  },
  {
   "cell_type": "code",
   "execution_count": 82,
   "id": "promotional-pursuit",
   "metadata": {},
   "outputs": [],
   "source": [
    "df_AMC = pd.read_csv('AMC.csv', sep=',')\n",
    "df_AMP = pd.read_csv('AMP.csv', sep=',')\n",
    "df_ANZ = pd.read_csv('ANZ.AX.csv', sep=',')\n",
    "df_BHP = pd.read_csv('BHP.csv', sep=',')\n",
    "df_BXB = pd.read_csv('BXB.AX.csv', sep=',')\n",
    "df_CBA = pd.read_csv('CBA.AX.csv', sep=',')\n",
    "df_CSL = pd.read_csv('CSL.csv', sep=',')\n",
    "df_IAG = pd.read_csv('IAG.csv', sep=',')\n",
    "#df_sets = [df_AMC, df_AMP, df_ANZ, df_BHP, df_BXB, df_CBA, df_CSL, df_IAG]\n",
    "df_sets = [df_AMC, df_AMP]"
   ]
  },
  {
   "cell_type": "code",
   "execution_count": 128,
   "id": "dutch-manchester",
   "metadata": {},
   "outputs": [],
   "source": [
    "X = []\n",
    "for _ in df_sets:\n",
    "    _['prftblty_per_day'] = np.log(_['Adj Close'].shift(periods = 1)/_['Adj Close'])\n",
    "    _ = _.dropna()\n",
    "    X.append(_['prftblty_per_day'].to_numpy())\n",
    "sigma = np.corrcoef(X)\n",
    "sigma = np.kron(sigma, np.ones((2,2)))"
   ]
  },
  {
   "cell_type": "code",
   "execution_count": 129,
   "id": "framed-labor",
   "metadata": {},
   "outputs": [
    {
     "data": {
      "text/plain": [
       "array([[1.        , 1.        , 0.22635223, 0.22635223],\n",
       "       [1.        , 1.        , 0.22635223, 0.22635223],\n",
       "       [0.22635223, 0.22635223, 1.        , 1.        ],\n",
       "       [0.22635223, 0.22635223, 1.        , 1.        ]])"
      ]
     },
     "execution_count": 129,
     "metadata": {},
     "output_type": "execute_result"
    }
   ],
   "source": [
    "sigma"
   ]
  },
  {
   "cell_type": "code",
   "execution_count": 130,
   "id": "loving-destination",
   "metadata": {},
   "outputs": [
    {
     "data": {
      "text/plain": [
       "<AxesSubplot:>"
      ]
     },
     "execution_count": 130,
     "metadata": {},
     "output_type": "execute_result"
    },
    {
     "data": {
      "image/png": "[encoded data removed]",
      "text/plain": [
       "<Figure size 432x288 with 2 Axes>"
      ]
     },
     "metadata": {
      "needs_background": "light"
     },
     "output_type": "display_data"
    }
   ],
   "source": [
    "import seaborn as sns\n",
    "sns.heatmap(sigma)"
   ]
  },
  {
   "cell_type": "code",
   "execution_count": 131,
   "id": "comparative-probe",
   "metadata": {},
   "outputs": [
    {
     "data": {
      "text/html": [
       "<div>\n",
       "<style scoped>\n",
       "    .dataframe tbody tr th:only-of-type {\n",
       "        vertical-align: middle;\n",
       "    }\n",
       "\n",
       "    .dataframe tbody tr th {\n",
       "        vertical-align: top;\n",
       "    }\n",
       "\n",
       "    .dataframe thead th {\n",
       "        text-align: right;\n",
       "    }\n",
       "</style>\n",
       "<table border=\"1\" class=\"dataframe\">\n",
       "  <thead>\n",
       "    <tr style=\"text-align: right;\">\n",
       "      <th></th>\n",
       "      <th>Date</th>\n",
       "      <th>Open</th>\n",
       "      <th>High</th>\n",
       "      <th>Low</th>\n",
       "      <th>Close</th>\n",
       "      <th>Adj Close</th>\n",
       "      <th>Volume</th>\n",
       "    </tr>\n",
       "  </thead>\n",
       "  <tbody>\n",
       "    <tr>\n",
       "      <th>0</th>\n",
       "      <td>2017-01-03</td>\n",
       "      <td>110.870003</td>\n",
       "      <td>112.180000</td>\n",
       "      <td>108.650002</td>\n",
       "      <td>109.260002</td>\n",
       "      <td>102.083527</td>\n",
       "      <td>302300</td>\n",
       "    </tr>\n",
       "    <tr>\n",
       "      <th>1</th>\n",
       "      <td>2017-01-04</td>\n",
       "      <td>109.529999</td>\n",
       "      <td>111.570000</td>\n",
       "      <td>109.529999</td>\n",
       "      <td>110.739998</td>\n",
       "      <td>103.466324</td>\n",
       "      <td>344400</td>\n",
       "    </tr>\n",
       "    <tr>\n",
       "      <th>2</th>\n",
       "      <td>2017-01-05</td>\n",
       "      <td>110.790001</td>\n",
       "      <td>110.790001</td>\n",
       "      <td>108.769997</td>\n",
       "      <td>109.599998</td>\n",
       "      <td>102.401192</td>\n",
       "      <td>366100</td>\n",
       "    </tr>\n",
       "    <tr>\n",
       "      <th>3</th>\n",
       "      <td>2017-01-06</td>\n",
       "      <td>109.580002</td>\n",
       "      <td>110.139999</td>\n",
       "      <td>109.150002</td>\n",
       "      <td>109.400002</td>\n",
       "      <td>102.214340</td>\n",
       "      <td>294900</td>\n",
       "    </tr>\n",
       "    <tr>\n",
       "      <th>4</th>\n",
       "      <td>2017-01-09</td>\n",
       "      <td>109.449997</td>\n",
       "      <td>109.449997</td>\n",
       "      <td>107.690002</td>\n",
       "      <td>108.199997</td>\n",
       "      <td>101.093140</td>\n",
       "      <td>302200</td>\n",
       "    </tr>\n",
       "    <tr>\n",
       "      <th>...</th>\n",
       "      <td>...</td>\n",
       "      <td>...</td>\n",
       "      <td>...</td>\n",
       "      <td>...</td>\n",
       "      <td>...</td>\n",
       "      <td>...</td>\n",
       "      <td>...</td>\n",
       "    </tr>\n",
       "    <tr>\n",
       "      <th>496</th>\n",
       "      <td>2018-12-21</td>\n",
       "      <td>94.900002</td>\n",
       "      <td>96.739998</td>\n",
       "      <td>94.110001</td>\n",
       "      <td>94.410004</td>\n",
       "      <td>90.721107</td>\n",
       "      <td>813800</td>\n",
       "    </tr>\n",
       "    <tr>\n",
       "      <th>497</th>\n",
       "      <td>2018-12-24</td>\n",
       "      <td>93.309998</td>\n",
       "      <td>94.540001</td>\n",
       "      <td>93.129997</td>\n",
       "      <td>93.180000</td>\n",
       "      <td>89.539154</td>\n",
       "      <td>313500</td>\n",
       "    </tr>\n",
       "    <tr>\n",
       "      <th>498</th>\n",
       "      <td>2018-12-26</td>\n",
       "      <td>93.099998</td>\n",
       "      <td>97.449997</td>\n",
       "      <td>93.010002</td>\n",
       "      <td>97.300003</td>\n",
       "      <td>93.498177</td>\n",
       "      <td>349200</td>\n",
       "    </tr>\n",
       "    <tr>\n",
       "      <th>499</th>\n",
       "      <td>2018-12-27</td>\n",
       "      <td>95.739998</td>\n",
       "      <td>99.379997</td>\n",
       "      <td>94.160004</td>\n",
       "      <td>99.370003</td>\n",
       "      <td>95.487289</td>\n",
       "      <td>346400</td>\n",
       "    </tr>\n",
       "    <tr>\n",
       "      <th>500</th>\n",
       "      <td>2018-12-28</td>\n",
       "      <td>99.279999</td>\n",
       "      <td>100.699997</td>\n",
       "      <td>98.669998</td>\n",
       "      <td>99.099998</td>\n",
       "      <td>95.227837</td>\n",
       "      <td>296100</td>\n",
       "    </tr>\n",
       "  </tbody>\n",
       "</table>\n",
       "<p>501 rows × 7 columns</p>\n",
       "</div>"
      ],
      "text/plain": [
       "           Date        Open        High         Low       Close   Adj Close  \\\n",
       "0    2017-01-03  110.870003  112.180000  108.650002  109.260002  102.083527   \n",
       "1    2017-01-04  109.529999  111.570000  109.529999  110.739998  103.466324   \n",
       "2    2017-01-05  110.790001  110.790001  108.769997  109.599998  102.401192   \n",
       "3    2017-01-06  109.580002  110.139999  109.150002  109.400002  102.214340   \n",
       "4    2017-01-09  109.449997  109.449997  107.690002  108.199997  101.093140   \n",
       "..          ...         ...         ...         ...         ...         ...   \n",
       "496  2018-12-21   94.900002   96.739998   94.110001   94.410004   90.721107   \n",
       "497  2018-12-24   93.309998   94.540001   93.129997   93.180000   89.539154   \n",
       "498  2018-12-26   93.099998   97.449997   93.010002   97.300003   93.498177   \n",
       "499  2018-12-27   95.739998   99.379997   94.160004   99.370003   95.487289   \n",
       "500  2018-12-28   99.279999  100.699997   98.669998   99.099998   95.227837   \n",
       "\n",
       "     Volume  \n",
       "0    302300  \n",
       "1    344400  \n",
       "2    366100  \n",
       "3    294900  \n",
       "4    302200  \n",
       "..      ...  \n",
       "496  813800  \n",
       "497  313500  \n",
       "498  349200  \n",
       "499  346400  \n",
       "500  296100  \n",
       "\n",
       "[501 rows x 7 columns]"
      ]
     },
     "execution_count": 131,
     "metadata": {},
     "output_type": "execute_result"
    }
   ],
   "source": [
    "df_CSL"
   ]
  },
  {
   "cell_type": "code",
   "execution_count": 245,
   "id": "angry-foster",
   "metadata": {},
   "outputs": [],
   "source": [
    "r = np.array(list(map(lambda x: x['prftblty_per_day'].mean(), df_sets)))"
   ]
  },
  {
   "cell_type": "code",
   "execution_count": 246,
   "id": "protective-assumption",
   "metadata": {},
   "outputs": [
    {
     "data": {
      "text/plain": [
       "array([1.71682912e-03, 1.71682912e-03, 6.39657330e-05, 6.39657330e-05])"
      ]
     },
     "execution_count": 246,
     "metadata": {},
     "output_type": "execute_result"
    }
   ],
   "source": [
    "r = np.kron(r, np.ones((1,2)))\n",
    "r= np.squeeze(np.asarray(r))\n",
    "r"
   ]
  },
  {
   "cell_type": "code",
   "execution_count": 190,
   "id": "blind-massachusetts",
   "metadata": {},
   "outputs": [],
   "source": [
    "import qiskit"
   ]
  },
  {
   "cell_type": "code",
   "execution_count": 191,
   "id": "blessed-affiliation",
   "metadata": {},
   "outputs": [
    {
     "ename": "ModuleNotFoundError",
     "evalue": "No module named 'qiskit.aqua'",
     "output_type": "error",
     "traceback": [
      "\u001b[1;31m---------------------------------------------------------------------------\u001b[0m",
      "\u001b[1;31mModuleNotFoundError\u001b[0m                       Traceback (most recent call last)",
      "\u001b[1;32m<ipython-input-191-c196212ade78>\u001b[0m in \u001b[0;36m<module>\u001b[1;34m\u001b[0m\n\u001b[0;32m      7\u001b[0m \u001b[1;32mfrom\u001b[0m \u001b[0mscipy\u001b[0m\u001b[1;33m.\u001b[0m\u001b[0moptimize\u001b[0m \u001b[1;32mimport\u001b[0m \u001b[0mminimize\u001b[0m\u001b[1;33m\u001b[0m\u001b[1;33m\u001b[0m\u001b[0m\n\u001b[0;32m      8\u001b[0m \u001b[1;32mfrom\u001b[0m \u001b[0mqiskit\u001b[0m \u001b[1;32mimport\u001b[0m \u001b[0mQuantumCircuit\u001b[0m\u001b[1;33m,\u001b[0m \u001b[0mQuantumRegister\u001b[0m\u001b[1;33m,\u001b[0m \u001b[0mClassicalRegister\u001b[0m\u001b[1;33m,\u001b[0m \u001b[0mexecute\u001b[0m\u001b[1;33m,\u001b[0m \u001b[0mAer\u001b[0m\u001b[1;33m\u001b[0m\u001b[1;33m\u001b[0m\u001b[0m\n\u001b[1;32m----> 9\u001b[1;33m \u001b[1;32mfrom\u001b[0m \u001b[0mqiskit\u001b[0m\u001b[1;33m.\u001b[0m\u001b[0maqua\u001b[0m\u001b[1;33m.\u001b[0m\u001b[0malgorithms\u001b[0m \u001b[1;32mimport\u001b[0m \u001b[0mNumPyEigensolver\u001b[0m\u001b[1;33m\u001b[0m\u001b[1;33m\u001b[0m\u001b[0m\n\u001b[0m\u001b[0;32m     10\u001b[0m \u001b[1;32mfrom\u001b[0m \u001b[0mqiskit\u001b[0m\u001b[1;33m.\u001b[0m\u001b[0mquantum_info\u001b[0m \u001b[1;32mimport\u001b[0m \u001b[0mPauli\u001b[0m\u001b[1;33m\u001b[0m\u001b[1;33m\u001b[0m\u001b[0m\n\u001b[0;32m     11\u001b[0m \u001b[1;32mfrom\u001b[0m \u001b[0mqiskit\u001b[0m\u001b[1;33m.\u001b[0m\u001b[0maqua\u001b[0m\u001b[1;33m.\u001b[0m\u001b[0moperators\u001b[0m \u001b[1;32mimport\u001b[0m \u001b[0mop_converter\u001b[0m\u001b[1;33m\u001b[0m\u001b[1;33m\u001b[0m\u001b[0m\n",
      "\u001b[1;31mModuleNotFoundError\u001b[0m: No module named 'qiskit.aqua'"
     ]
    }
   ],
   "source": [
    "# import warnings; warnings.filterwarnings(\"ignore\")\n",
    "import numpy as np\n",
    "import networkx as nx\n",
    "import matplotlib.pyplot as plt\n",
    "from collections import defaultdict\n",
    "from operator import itemgetter\n",
    "from scipy.optimize import minimize\n",
    "from qiskit import QuantumCircuit, QuantumRegister, ClassicalRegister, execute, Aer\n",
    "from qiskit.aqua.algorithms import NumPyEigensolver\n",
    "from qiskit.quantum_info import Pauli\n",
    "from qiskit.aqua.operators import op_converter\n",
    "from qiskit.aqua.operators import WeightedPauliOperator"
   ]
  },
  {
   "cell_type": "markdown",
   "id": "clean-credit",
   "metadata": {},
   "source": [
    "## Вид гамильтониана (с учетом ограничения):\n",
    "### $c(z) = \\lambda \\sum \\sigma_{ij} z_i z_j + (1 - \\lambda) \\sum r_i z_i + \\beta (\\sum z_i - A)^2$\n",
    "### $C = \\frac{1}{2}\\sum (\\lambda \\sigma_{ii}+\\beta-(1 - \\lambda) r_i - 2A\\beta) \\cdot Z_i + \\frac{1}{4} \\sum (\\lambda \\sigma_{ij} + \\beta) \\cdot Z_i \\cdot Z_j + \\beta A^2$"
   ]
  },
  {
   "cell_type": "markdown",
   "id": "robust-mountain",
   "metadata": {},
   "source": [
    "Цель - построить оператор эволюции:\n",
    "### $ U_c(\\gamma) = e^{-i\\gamma C} $\n",
    "\n",
    "Далее $ \\phi^1_i = (\\lambda \\sigma_{ii}+\\beta-(1 - \\lambda) r_i - 2A\\beta) $\n",
    "\n",
    "$ \\phi^1_{ij} = (\\lambda \\sigma_{ij} + \\beta) $\n",
    "\n",
    "$ \\phi^1 = \\beta A^2$\n",
    "\n",
    "$C = \\frac{1}{2}\\sum \\phi^1_i \\cdot Z_i + \\frac{1}{4} \\sum \\phi^1_{ij} \\cdot Z_i \\cdot Z_j + \\phi^2 \\cdot I$"
   ]
  },
  {
   "cell_type": "code",
   "execution_count": 198,
   "id": "sustainable-balance",
   "metadata": {},
   "outputs": [],
   "source": [
    "n = 2\n",
    "N = n*2\n",
    "qubits = [i for i in range(0, n*2)]\n",
    "A = 4 ##page 10 main article\n",
    "betta = 0.33 ## 7 eq. main article - ???????\n",
    "lambd = 0.5\n",
    "phi = np.ones((N,N))\n",
    "for i in range(0, N):\n",
    "    for j in range(0, N):\n",
    "        if i != j:\n",
    "            phi[i][j] = lambd*sigma[i][j] + betta\n",
    "        else:\n",
    "            phi[i][j] = lambd*sigma[i][j] + betta - (1 - lambd)*r[i] - 2*A*betta      "
   ]
  },
  {
   "cell_type": "code",
   "execution_count": 199,
   "id": "spectacular-semester",
   "metadata": {},
   "outputs": [
    {
     "data": {
      "text/plain": [
       "[0, 1, 2, 3]"
      ]
     },
     "execution_count": 199,
     "metadata": {},
     "output_type": "execute_result"
    }
   ],
   "source": [
    "qubits"
   ]
  },
  {
   "cell_type": "code",
   "execution_count": 201,
   "id": "combined-consolidation",
   "metadata": {},
   "outputs": [],
   "source": [
    "from itertools import combinations\n",
    "\n",
    "def append_zz_term(qc, q1, q2, gamma, i, j):\n",
    "    qc.cx(q1,q2)\n",
    "    qc.rz(2*gamma*(1/4 * phi[i][j]), q2)\n",
    "    qc.cx(q1,q2)\n",
    "    \n",
    "def append_z_term(qc, q, gamma, i):\n",
    "    qc.rz(2*gamma*(1/2 * phi[i][i]), q)\n",
    "    \n",
    "\n",
    "def get_cost_operator_circuit(gamma):\n",
    "    qc = QuantumCircuit(N,N)\n",
    "    for i, j in combinations(qubits, 2):\n",
    "        append_zz_term(qc, i, j, gamma, i, j)\n",
    "    for i in qubits:\n",
    "        append_z_term(qc, i, gamma, i)\n",
    "    return qc"
   ]
  },
  {
   "cell_type": "code",
   "execution_count": 202,
   "id": "upset-beijing",
   "metadata": {},
   "outputs": [
    {
     "data": {
      "text/html": [
       "<pre style=\"word-wrap: normal;white-space: pre;background: #fff0;line-height: 1.1;font-family: &quot;Courier New&quot;,Courier,monospace\">                                                                           »\n",
       "q_0: ──■───────────────────■────■───────────────────■────■─────────────────»\n",
       "     ┌─┴─┐┌─────────────┐┌─┴─┐  │                   │    │                 »\n",
       "q_1: ┤ X ├┤ Rz(0.43459) ├┤ X ├──┼───────────────────┼────┼─────────■───────»\n",
       "     └───┘└─────────────┘└───┘┌─┴─┐┌─────────────┐┌─┴─┐  │       ┌─┴─┐     »\n",
       "q_2: ─────────────────────────┤ X ├┤ Rz(0.23205) ├┤ X ├──┼───────┤ X ├─────»\n",
       "                              └───┘└─────────────┘└───┘┌─┴─┐┌────┴───┴────┐»\n",
       "q_3: ──────────────────────────────────────────────────┤ X ├┤ Rz(0.23205) ├»\n",
       "                                                       └───┘└─────────────┘»\n",
       "c: 4/══════════════════════════════════════════════════════════════════════»\n",
       "                                                                           »\n",
       "«                         ┌─────────────┐                         »\n",
       "«q_0: ─────────────────■──┤ Rz(-1.8963) ├─────────────────────────»\n",
       "«                      │  └─────────────┘                         »\n",
       "«q_1: ─────────────────┼─────────■─────────■───────────────────■──»\n",
       "«     ┌─────────────┐  │       ┌─┴─┐       │                   │  »\n",
       "«q_2: ┤ Rz(0.23205) ├──┼───────┤ X ├───────┼───────────────────┼──»\n",
       "«     └─────────────┘┌─┴─┐     └───┘     ┌─┴─┐┌─────────────┐┌─┴─┐»\n",
       "«q_3: ───────────────┤ X ├───────────────┤ X ├┤ Rz(0.23205) ├┤ X ├»\n",
       "«                    └───┘               └───┘└─────────────┘└───┘»\n",
       "«c: 4/════════════════════════════════════════════════════════════»\n",
       "«                                                                 »\n",
       "«                                                       \n",
       "«q_0: ──────────────────────────────────────────────────\n",
       "«     ┌─────────────┐                                   \n",
       "«q_1: ┤ Rz(-1.8963) ├───────────────────────────────────\n",
       "«     └─────────────┘                    ┌─────────────┐\n",
       "«q_2: ───────■────────────────────────■──┤ Rz(-1.8963) ├\n",
       "«          ┌─┴─┐     ┌─────────────┐┌─┴─┐├─────────────┤\n",
       "«q_3: ─────┤ X ├─────┤ Rz(0.43459) ├┤ X ├┤ Rz(-1.8963) ├\n",
       "«          └───┘     └─────────────┘└───┘└─────────────┘\n",
       "«c: 4/══════════════════════════════════════════════════\n",
       "«                                                       </pre>"
      ],
      "text/plain": [
       "                                                                           »\n",
       "q_0: ──■───────────────────■────■───────────────────■────■─────────────────»\n",
       "     ┌─┴─┐┌─────────────┐┌─┴─┐  │                   │    │                 »\n",
       "q_1: ┤ X ├┤ Rz(0.43459) ├┤ X ├──┼───────────────────┼────┼─────────■───────»\n",
       "     └───┘└─────────────┘└───┘┌─┴─┐┌─────────────┐┌─┴─┐  │       ┌─┴─┐     »\n",
       "q_2: ─────────────────────────┤ X ├┤ Rz(0.23205) ├┤ X ├──┼───────┤ X ├─────»\n",
       "                              └───┘└─────────────┘└───┘┌─┴─┐┌────┴───┴────┐»\n",
       "q_3: ──────────────────────────────────────────────────┤ X ├┤ Rz(0.23205) ├»\n",
       "                                                       └───┘└─────────────┘»\n",
       "c: 4/══════════════════════════════════════════════════════════════════════»\n",
       "                                                                           »\n",
       "«                         ┌─────────────┐                         »\n",
       "«q_0: ─────────────────■──┤ Rz(-1.8963) ├─────────────────────────»\n",
       "«                      │  └─────────────┘                         »\n",
       "«q_1: ─────────────────┼─────────■─────────■───────────────────■──»\n",
       "«     ┌─────────────┐  │       ┌─┴─┐       │                   │  »\n",
       "«q_2: ┤ Rz(0.23205) ├──┼───────┤ X ├───────┼───────────────────┼──»\n",
       "«     └─────────────┘┌─┴─┐     └───┘     ┌─┴─┐┌─────────────┐┌─┴─┐»\n",
       "«q_3: ───────────────┤ X ├───────────────┤ X ├┤ Rz(0.23205) ├┤ X ├»\n",
       "«                    └───┘               └───┘└─────────────┘└───┘»\n",
       "«c: 4/════════════════════════════════════════════════════════════»\n",
       "«                                                                 »\n",
       "«                                                       \n",
       "«q_0: ──────────────────────────────────────────────────\n",
       "«     ┌─────────────┐                                   \n",
       "«q_1: ┤ Rz(-1.8963) ├───────────────────────────────────\n",
       "«     └─────────────┘                    ┌─────────────┐\n",
       "«q_2: ───────■────────────────────────■──┤ Rz(-1.8963) ├\n",
       "«          ┌─┴─┐     ┌─────────────┐┌─┴─┐├─────────────┤\n",
       "«q_3: ─────┤ X ├─────┤ Rz(0.43459) ├┤ X ├┤ Rz(-1.8963) ├\n",
       "«          └───┘     └─────────────┘└───┘└─────────────┘\n",
       "«c: 4/══════════════════════════════════════════════════\n",
       "«                                                       "
      ]
     },
     "execution_count": 202,
     "metadata": {},
     "output_type": "execute_result"
    }
   ],
   "source": [
    "qc = get_cost_operator_circuit(np.pi / 3)\n",
    "qc.draw()"
   ]
  },
  {
   "cell_type": "markdown",
   "id": "secondary-welding",
   "metadata": {},
   "source": [
    "### mixer operator\n",
    "\n",
    "Mixer operator: $e^{-i\\beta_p B} = e^{-i\\beta_p \\sum_{i\\in 0..7}X_i}$ "
   ]
  },
  {
   "cell_type": "code",
   "execution_count": 206,
   "id": "wanted-worcester",
   "metadata": {},
   "outputs": [],
   "source": [
    "def append_x_term(qc, q1, beta):\n",
    "    qc.rx(2*beta, q1)\n",
    "\n",
    "def get_mixer_operator_circuit(beta):\n",
    "    qc = QuantumCircuit(N,N)\n",
    "    for n in qubits:\n",
    "        append_x_term(qc, n, beta)\n",
    "    return qc"
   ]
  },
  {
   "cell_type": "markdown",
   "id": "incorporate-samoa",
   "metadata": {},
   "source": [
    "### Let's verify that circuit looks right\n",
    "\n",
    "$|\\psi{(\\mathbb{\\beta},\\mathbb{\\gamma})}> =  e^{-i\\beta_p B}e^{-i\\gamma_p C}\\cdots e^{-i\\beta_1 B}e^{-i\\gamma_1 C} H^{\\otimes n} |0>$"
   ]
  },
  {
   "cell_type": "code",
   "execution_count": 207,
   "id": "derived-forty",
   "metadata": {},
   "outputs": [],
   "source": [
    "def get_qaoa_circuit(beta, gamma):\n",
    "    assert(len(beta) == len(gamma))\n",
    "    p = len(beta) # infering number of QAOA steps from the parameters passed\n",
    "    qc = QuantumCircuit(N,N)\n",
    "    # first, apply a layer of Hadamards\n",
    "    qc.h(range(N))\n",
    "    # second, apply p alternating operators\n",
    "    for i in range(p):\n",
    "        qc += get_cost_operator_circuit(gamma[i])\n",
    "        qc += get_mixer_operator_circuit(beta[i])\n",
    "    # finally, do not forget to measure the result!\n",
    "    qc.barrier(range(N))\n",
    "    qc.measure(range(N), range(N))\n",
    "    return qc"
   ]
  },
  {
   "cell_type": "code",
   "execution_count": 208,
   "id": "adapted-entrepreneur",
   "metadata": {},
   "outputs": [
    {
     "name": "stderr",
     "output_type": "stream",
     "text": [
      "<ipython-input-207-5faa3662192c>:9: DeprecationWarning: The QuantumCircuit.__iadd__() method is being deprecated. Use the compose() (potentially with the inplace=True argument) and tensor() methods which are more flexible w.r.t circuit register compatibility.\n",
      "  qc += get_cost_operator_circuit(gamma[i])\n",
      "<ipython-input-207-5faa3662192c>:10: DeprecationWarning: The QuantumCircuit.__iadd__() method is being deprecated. Use the compose() (potentially with the inplace=True argument) and tensor() methods which are more flexible w.r.t circuit register compatibility.\n",
      "  qc += get_mixer_operator_circuit(beta[i])\n"
     ]
    },
    {
     "data": {
      "text/html": [
       "<pre style=\"word-wrap: normal;white-space: pre;background: #fff0;line-height: 1.1;font-family: &quot;Courier New&quot;,Courier,monospace\">     ┌───┐                                                       »\n",
       "q_0: ┤ H ├──■───────────────────■────■───────────────────■────■──»\n",
       "     ├───┤┌─┴─┐┌─────────────┐┌─┴─┐  │                   │    │  »\n",
       "q_1: ┤ H ├┤ X ├┤ Rz(0.65188) ├┤ X ├──┼───────────────────┼────┼──»\n",
       "     ├───┤└───┘└─────────────┘└───┘┌─┴─┐┌─────────────┐┌─┴─┐  │  »\n",
       "q_2: ┤ H ├─────────────────────────┤ X ├┤ Rz(0.34807) ├┤ X ├──┼──»\n",
       "     ├───┤                         └───┘└─────────────┘└───┘┌─┴─┐»\n",
       "q_3: ┤ H ├──────────────────────────────────────────────────┤ X ├»\n",
       "     └───┘                                                  └───┘»\n",
       "c: 4/════════════════════════════════════════════════════════════»\n",
       "                                                                 »\n",
       "«                                        ┌─────────────┐┌──────────┐»\n",
       "«q_0: ────────────────────────────────■──┤ Rz(-2.8445) ├┤ Rx(2π/3) ├»\n",
       "«                                     │  └─────────────┘└──────────┘»\n",
       "«q_1: ───────■────────────────────────┼─────────■────────────■──────»\n",
       "«          ┌─┴─┐     ┌─────────────┐  │       ┌─┴─┐          │      »\n",
       "«q_2: ─────┤ X ├─────┤ Rz(0.34807) ├──┼───────┤ X ├──────────┼──────»\n",
       "«     ┌────┴───┴────┐└─────────────┘┌─┴─┐     └───┘        ┌─┴─┐    »\n",
       "«q_3: ┤ Rz(0.34807) ├───────────────┤ X ├──────────────────┤ X ├────»\n",
       "«     └─────────────┘               └───┘                  └───┘    »\n",
       "«c: 4/══════════════════════════════════════════════════════════════»\n",
       "«                                                                   »\n",
       "«                                                                           »\n",
       "«q_0: ──────────────────────────────────────────────────────────────────────»\n",
       "«                         ┌─────────────┐  ┌──────────┐                     »\n",
       "«q_1: ─────────────────■──┤ Rz(-2.8445) ├──┤ Rx(2π/3) ├─────────────────────»\n",
       "«                      │  └─────────────┘  └──────────┘      ┌─────────────┐»\n",
       "«q_2: ─────────────────┼─────────■────────────────────────■──┤ Rz(-2.8445) ├»\n",
       "«     ┌─────────────┐┌─┴─┐     ┌─┴─┐     ┌─────────────┐┌─┴─┐├─────────────┤»\n",
       "«q_3: ┤ Rz(0.34807) ├┤ X ├─────┤ X ├─────┤ Rz(0.65188) ├┤ X ├┤ Rz(-2.8445) ├»\n",
       "«     └─────────────┘└───┘     └───┘     └─────────────┘└───┘└─────────────┘»\n",
       "«c: 4/══════════════════════════════════════════════════════════════════════»\n",
       "«                                                                           »\n",
       "«                  ░ ┌─┐         \n",
       "«q_0: ─────────────░─┤M├─────────\n",
       "«                  ░ └╥┘┌─┐      \n",
       "«q_1: ─────────────░──╫─┤M├──────\n",
       "«     ┌──────────┐ ░  ║ └╥┘┌─┐   \n",
       "«q_2: ┤ Rx(2π/3) ├─░──╫──╫─┤M├───\n",
       "«     ├──────────┤ ░  ║  ║ └╥┘┌─┐\n",
       "«q_3: ┤ Rx(2π/3) ├─░──╫──╫──╫─┤M├\n",
       "«     └──────────┘ ░  ║  ║  ║ └╥┘\n",
       "«c: 4/════════════════╩══╩══╩══╩═\n",
       "«                     0  1  2  3 </pre>"
      ],
      "text/plain": [
       "     ┌───┐                                                       »\n",
       "q_0: ┤ H ├──■───────────────────■────■───────────────────■────■──»\n",
       "     ├───┤┌─┴─┐┌─────────────┐┌─┴─┐  │                   │    │  »\n",
       "q_1: ┤ H ├┤ X ├┤ Rz(0.65188) ├┤ X ├──┼───────────────────┼────┼──»\n",
       "     ├───┤└───┘└─────────────┘└───┘┌─┴─┐┌─────────────┐┌─┴─┐  │  »\n",
       "q_2: ┤ H ├─────────────────────────┤ X ├┤ Rz(0.34807) ├┤ X ├──┼──»\n",
       "     ├───┤                         └───┘└─────────────┘└───┘┌─┴─┐»\n",
       "q_3: ┤ H ├──────────────────────────────────────────────────┤ X ├»\n",
       "     └───┘                                                  └───┘»\n",
       "c: 4/════════════════════════════════════════════════════════════»\n",
       "                                                                 »\n",
       "«                                        ┌─────────────┐┌──────────┐»\n",
       "«q_0: ────────────────────────────────■──┤ Rz(-2.8445) ├┤ Rx(2π/3) ├»\n",
       "«                                     │  └─────────────┘└──────────┘»\n",
       "«q_1: ───────■────────────────────────┼─────────■────────────■──────»\n",
       "«          ┌─┴─┐     ┌─────────────┐  │       ┌─┴─┐          │      »\n",
       "«q_2: ─────┤ X ├─────┤ Rz(0.34807) ├──┼───────┤ X ├──────────┼──────»\n",
       "«     ┌────┴───┴────┐└─────────────┘┌─┴─┐     └───┘        ┌─┴─┐    »\n",
       "«q_3: ┤ Rz(0.34807) ├───────────────┤ X ├──────────────────┤ X ├────»\n",
       "«     └─────────────┘               └───┘                  └───┘    »\n",
       "«c: 4/══════════════════════════════════════════════════════════════»\n",
       "«                                                                   »\n",
       "«                                                                           »\n",
       "«q_0: ──────────────────────────────────────────────────────────────────────»\n",
       "«                         ┌─────────────┐  ┌──────────┐                     »\n",
       "«q_1: ─────────────────■──┤ Rz(-2.8445) ├──┤ Rx(2π/3) ├─────────────────────»\n",
       "«                      │  └─────────────┘  └──────────┘      ┌─────────────┐»\n",
       "«q_2: ─────────────────┼─────────■────────────────────────■──┤ Rz(-2.8445) ├»\n",
       "«     ┌─────────────┐┌─┴─┐     ┌─┴─┐     ┌─────────────┐┌─┴─┐├─────────────┤»\n",
       "«q_3: ┤ Rz(0.34807) ├┤ X ├─────┤ X ├─────┤ Rz(0.65188) ├┤ X ├┤ Rz(-2.8445) ├»\n",
       "«     └─────────────┘└───┘     └───┘     └─────────────┘└───┘└─────────────┘»\n",
       "«c: 4/══════════════════════════════════════════════════════════════════════»\n",
       "«                                                                           »\n",
       "«                  ░ ┌─┐         \n",
       "«q_0: ─────────────░─┤M├─────────\n",
       "«                  ░ └╥┘┌─┐      \n",
       "«q_1: ─────────────░──╫─┤M├──────\n",
       "«     ┌──────────┐ ░  ║ └╥┘┌─┐   \n",
       "«q_2: ┤ Rx(2π/3) ├─░──╫──╫─┤M├───\n",
       "«     ├──────────┤ ░  ║  ║ └╥┘┌─┐\n",
       "«q_3: ┤ Rx(2π/3) ├─░──╫──╫──╫─┤M├\n",
       "«     └──────────┘ ░  ║  ║  ║ └╥┘\n",
       "«c: 4/════════════════╩══╩══╩══╩═\n",
       "«                     0  1  2  3 "
      ]
     },
     "execution_count": 208,
     "metadata": {},
     "output_type": "execute_result"
    }
   ],
   "source": [
    "qc = get_qaoa_circuit([np.pi/3], [np.pi/2])\n",
    "qc.draw()"
   ]
  },
  {
   "cell_type": "markdown",
   "id": "overall-communication",
   "metadata": {},
   "source": [
    "Запуск на симуляторе"
   ]
  },
  {
   "cell_type": "code",
   "execution_count": 241,
   "id": "framed-horizon",
   "metadata": {},
   "outputs": [],
   "source": [
    "def invert_counts(counts):\n",
    "    return {k[::-1]:v for k, v in counts.items()}"
   ]
  },
  {
   "cell_type": "code",
   "execution_count": 260,
   "id": "manual-grounds",
   "metadata": {},
   "outputs": [
    {
     "name": "stdout",
     "output_type": "stream",
     "text": [
      "{'0001': 33, '0000': 174, '1101': 29, '0100': 50, '1111': 414, '1010': 14, '1000': 43, '1100': 56, '0011': 45, '1001': 13, '0101': 11, '1011': 34, '0010': 36, '0111': 33, '0110': 9, '1110': 30}\n"
     ]
    }
   ],
   "source": [
    "backend = Aer.get_backend('qasm_simulator')\n",
    "job = execute(qc, backend)\n",
    "result = job.result()\n",
    "print(invert_counts(result.get_counts()))"
   ]
  },
  {
   "cell_type": "code",
   "execution_count": 270,
   "id": "assured-improvement",
   "metadata": {},
   "outputs": [],
   "source": [
    "decode = {'00': 0, '01' : 1, '10': -1, '11' : 0}\n",
    "\n",
    "def obj_f(z):\n",
    "    z_state = []\n",
    "    for i in range(0, len(z), 2):\n",
    "        z_state.append(decode[z[i] + z[i+1]])\n",
    "    z_state = np.array(z_state)\n",
    "    componnent_1 = lambd*(z_state @ sigma[1:3, 1:3] @ z_state) + (1-lambd)*(r[1:3] @ z_state)\n",
    "    componnent_2 = betta* (z_state.sum() - A)**2\n",
    "    return componnent_1 + componnent_2"
   ]
  },
  {
   "cell_type": "code",
   "execution_count": 271,
   "id": "bizarre-berlin",
   "metadata": {},
   "outputs": [
    {
     "data": {
      "text/plain": [
       "5.28"
      ]
     },
     "execution_count": 271,
     "metadata": {},
     "output_type": "execute_result"
    }
   ],
   "source": [
    "obj_f('0000')"
   ]
  },
  {
   "cell_type": "code",
   "execution_count": 272,
   "id": "sunset-stand",
   "metadata": {},
   "outputs": [],
   "source": [
    "def compute_energy(counts):\n",
    "    energy = 0\n",
    "    total_counts = 0\n",
    "    for meas, meas_count in counts.items():\n",
    "        obj_for_meas = obj_f(meas)\n",
    "        energy += obj_for_meas * meas_count\n",
    "        total_counts += meas_count\n",
    "    return energy / total_counts"
   ]
  },
  {
   "cell_type": "code",
   "execution_count": 273,
   "id": "indie-beach",
   "metadata": {},
   "outputs": [
    {
     "data": {
      "text/plain": [
       "5.6025372093144075"
      ]
     },
     "execution_count": 273,
     "metadata": {},
     "output_type": "execute_result"
    }
   ],
   "source": [
    "compute_energy(invert_counts(result.get_counts()))"
   ]
  },
  {
   "cell_type": "code",
   "execution_count": 276,
   "id": "homeless-closing",
   "metadata": {},
   "outputs": [],
   "source": [
    "def get_black_box_objective(p):\n",
    "    backend = Aer.get_backend('qasm_simulator')\n",
    "    def f(theta):\n",
    "        # let's assume first half is betas, second half is gammas\n",
    "        beta = theta[:p]\n",
    "        gamma = theta[p:]\n",
    "        qc = get_qaoa_circuit(beta, gamma)\n",
    "        counts = execute(qc, backend, seed_simulator=10).result().get_counts()\n",
    "        # return the energy\n",
    "        return compute_energy(invert_counts(counts))\n",
    "    return f"
   ]
  },
  {
   "cell_type": "code",
   "execution_count": 277,
   "id": "revolutionary-speaker",
   "metadata": {},
   "outputs": [
    {
     "name": "stderr",
     "output_type": "stream",
     "text": [
      "<ipython-input-207-5faa3662192c>:9: DeprecationWarning: The QuantumCircuit.__iadd__() method is being deprecated. Use the compose() (potentially with the inplace=True argument) and tensor() methods which are more flexible w.r.t circuit register compatibility.\n",
      "  qc += get_cost_operator_circuit(gamma[i])\n",
      "<ipython-input-207-5faa3662192c>:10: DeprecationWarning: The QuantumCircuit.__iadd__() method is being deprecated. Use the compose() (potentially with the inplace=True argument) and tensor() methods which are more flexible w.r.t circuit register compatibility.\n",
      "  qc += get_mixer_operator_circuit(beta[i])\n"
     ]
    },
    {
     "data": {
      "text/plain": [
       "     fun: 5.2688386122683974\n",
       "   maxcv: 0.0\n",
       " message: 'Optimization terminated successfully.'\n",
       "    nfev: 100\n",
       "  status: 1\n",
       " success: True\n",
       "       x: array([0.761927  , 2.38003133, 1.35657268, 2.14380419, 0.37234355,\n",
       "       2.40450253, 7.1945708 , 2.28793862, 3.80890443, 6.05325537])"
      ]
     },
     "execution_count": 277,
     "metadata": {},
     "output_type": "execute_result"
    }
   ],
   "source": [
    "# p is the number of QAOA alternating operators\n",
    "p = 5\n",
    "obj = get_black_box_objective(p)\n",
    "\n",
    "init_point = np.array([0.81069872, 2.2067517 , 0.83830696, 2.15579759, 0.37060699,\n",
    "       2.42068091, 6.1575306 , 2.2453419 , 3.85060091, 6.137845  ])\n",
    "# We are going to limit the number of iterations to 2500\n",
    "res_sample = minimize(obj, init_point, method='COBYLA', options={'maxiter':2500, 'disp': True})\n",
    "res_sample"
   ]
  },
  {
   "cell_type": "code",
   "execution_count": 278,
   "id": "chubby-latvia",
   "metadata": {},
   "outputs": [
    {
     "name": "stderr",
     "output_type": "stream",
     "text": [
      "<ipython-input-207-5faa3662192c>:9: DeprecationWarning: The QuantumCircuit.__iadd__() method is being deprecated. Use the compose() (potentially with the inplace=True argument) and tensor() methods which are more flexible w.r.t circuit register compatibility.\n",
      "  qc += get_cost_operator_circuit(gamma[i])\n",
      "<ipython-input-207-5faa3662192c>:10: DeprecationWarning: The QuantumCircuit.__iadd__() method is being deprecated. Use the compose() (potentially with the inplace=True argument) and tensor() methods which are more flexible w.r.t circuit register compatibility.\n",
      "  qc += get_mixer_operator_circuit(beta[i])\n"
     ]
    },
    {
     "data": {
      "text/plain": [
       "{'0001': 2,\n",
       " '0000': 270,\n",
       " '0011': 124,\n",
       " '1100': 100,\n",
       " '1111': 492,\n",
       " '0111': 6,\n",
       " '1001': 1,\n",
       " '1110': 5,\n",
       " '1101': 11,\n",
       " '1011': 9,\n",
       " '0010': 1,\n",
       " '0101': 1,\n",
       " '1010': 2}"
      ]
     },
     "execution_count": 278,
     "metadata": {},
     "output_type": "execute_result"
    }
   ],
   "source": [
    "optimal_theta = res_sample['x']\n",
    "qc = get_qaoa_circuit(optimal_theta[:p], optimal_theta[p:])\n",
    "counts = invert_counts(execute(qc, backend).result().get_counts())\n",
    "counts"
   ]
  },
  {
   "cell_type": "code",
   "execution_count": 286,
   "id": "greenhouse-recommendation",
   "metadata": {},
   "outputs": [
    {
     "data": {
      "text/plain": [
       "<BarContainer object of 13 artists>"
      ]
     },
     "execution_count": 286,
     "metadata": {},
     "output_type": "execute_result"
    },
    {
     "data": {
      "image/png": "[encoded data removed]",
      "text/plain": [
       "<Figure size 1440x576 with 1 Axes>"
      ]
     },
     "metadata": {
      "needs_background": "light"
     },
     "output_type": "display_data"
    }
   ],
   "source": [
    "import matplotlib.pyplot as plt\n",
    "\n",
    "fig, ax = plt.subplots(figsize=(20, 8))\n",
    "plt.bar(counts.keys(), counts.values(), color='r')"
   ]
  },
  {
   "cell_type": "code",
   "execution_count": null,
   "id": "absent-things",
   "metadata": {},
   "outputs": [],
   "source": []
  }
 ],
 "metadata": {
  "kernelspec": {
   "display_name": "Python 3",
   "language": "python",
   "name": "python3"
  },
  "language_info": {
   "codemirror_mode": {
    "name": "ipython",
    "version": 3
   },
   "file_extension": ".py",
   "mimetype": "text/x-python",
   "name": "python",
   "nbconvert_exporter": "python",
   "pygments_lexer": "ipython3",
   "version": "3.9.10"
  }
 },
 "nbformat": 4,
 "nbformat_minor": 5
}
